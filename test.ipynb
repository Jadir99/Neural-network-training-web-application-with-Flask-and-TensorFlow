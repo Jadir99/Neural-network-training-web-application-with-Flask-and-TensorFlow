{
 "cells": [
  {
   "cell_type": "code",
   "execution_count": 2,
   "metadata": {},
   "outputs": [],
   "source": [
    "from flask import Flask ,render_template,request\n",
    "import os\n",
    "from werkzeug.utils import secure_filename\n",
    "\n",
    "\n",
    "app=Flask(__name__)\n",
    "@app.route('/')\n",
    "def index():\n",
    "    return render_template('index.html')\n",
    "\n",
    "\n",
    "@app.route('/train_model')\n",
    "def train_model():\n",
    "    return render_template('train_model.html')\n",
    "\n",
    "@app.route('/result')\n",
    "def result():\n",
    "    return render_template('result.html')"
   ]
  },
  {
   "cell_type": "code",
   "execution_count": 3,
   "metadata": {},
   "outputs": [],
   "source": [
    "import tensorflow as tf\n",
    "from tensorflow.keras import layers, models\n",
    "from sklearn.model_selection import train_test_split\n",
    "import pandas as pd\n",
    "import matplotlib.pyplot as plt\n",
    "from sklearn.metrics import r2_score\n",
    "from tensorflow.keras.models import load_model\n",
    "\n",
    "\n",
    "# Prototype for training function with Pandas DataFrame\n",
    "\n",
    "def train_tensor(nbr_layers, nbr_neurals, activation, loss, optimizer, epoches, data, target_column, alpha=0.001):\n",
    "    \"\"\"\n",
    "    nbr_layers: Number of layers (int)\n",
    "    nbr_neurons: Number of neurons per layer (list of ints) \n",
    "    activation: Activation function per layer (list of strings, e.g., 'relu', 'sigmoid')\n",
    "    alpha: Learning rate (float)\n",
    "    loss: Loss function (string, e.g., 'mean_squared_error')\n",
    "    optimizer: Optimizer function (string, e.g., 'adam')\n",
    "    epochs: Number of epochs (int)\n",
    "    data: Pandas DataFrame (data) containing features and target column\n",
    "    target_column: Name of the target column for regression (string)\n",
    "    \"\"\"\n",
    "\n",
    "    # Split the DataFrame into features (X) and target (y)\n",
    "    X = data.drop(columns=[target_column])  # All columns except the target column\n",
    "    y = data[target_column]  # Target column for prediction\n",
    "    \n",
    "    # Train-test split\n",
    "    X_train, X_test, y_train, y_test = train_test_split(X, y, test_size=0.2)\n",
    "    \n",
    "    # Build the model\n",
    "    model = models.Sequential()\n",
    "    \n",
    "    # Add input layer with the number of features (columns) in X\n",
    "    model.add(layers.InputLayer(input_shape=(X_train.shape[1],)))\n",
    "    \n",
    "    # Add hidden layers\n",
    "    for i in range(nbr_layers):\n",
    "        model.add(layers.Dense(units=nbr_neurals[i], activation=activation[i]))\n",
    "    \n",
    "    # Add final layer for regression (output a single value)\n",
    "    model.add(layers.Dense(1))\n",
    "    \n",
    "    # Compile the model with the given optimizer and learning rate\n",
    "    optimizer_func = getattr(tf.keras.optimizers, optimizer)(learning_rate=alpha)\n",
    "    model.compile(loss=loss, optimizer=optimizer_func)\n",
    "    \n",
    "    # Train the model\n",
    "    history = model.fit(X_train, y_train, epochs=epoches, batch_size=32, validation_split=0.2)\n",
    "    \n",
    "    # Plot loss over epochs\n",
    "    plt.figure(figsize=(12, 6))\n",
    "    \n",
    "    # Plotting loss\n",
    "    plt.subplot(1, 2, 1)\n",
    "    plt.plot(history.history['loss'], label='Loss')\n",
    "    plt.plot(history.history['val_loss'], label='Validation Loss')\n",
    "    plt.title('Model Loss over Epochs')\n",
    "    plt.xlabel('Epochs')\n",
    "    plt.ylabel('Loss')\n",
    "    plt.legend()\n",
    "    plt.grid()\n",
    "\n",
    "    # Plotting accuracy (if applicable, for regression usually not used)\n",
    "    if 'accuracy' in history.history:\n",
    "        plt.subplot(1, 2, 2)\n",
    "        plt.plot(history.history['accuracy'], label='Accuracy')\n",
    "        plt.plot(history.history['val_accuracy'], label='Validation Accuracy')\n",
    "        plt.title('Model Accuracy over Epochs')\n",
    "        plt.xlabel('Epochs')\n",
    "        plt.ylabel('Accuracy')\n",
    "        plt.legend()\n",
    "        plt.grid()\n",
    "    \n",
    "    plt.savefig('static/images/plots/model_performance_plot.png')  # Save the performance plot to a file\n",
    "\n",
    "    # Evaluate the model on the test set\n",
    "    test_loss = model.evaluate(X_test, y_test)\n",
    "\n",
    "    # Predict and calculate accuracy manually (since it's a regression problem)\n",
    "    y_pred = model.predict(X_test)\n",
    "    \n",
    "    # Calculate R^2 score (as a measure of accuracy for regression)\n",
    "    r2 = r2_score(y_test, y_pred)\n",
    "    # save the model \n",
    "    model.save('../static/models/my_model.h5') \n",
    "    \n",
    "    return model, history, test_loss, r2\n"
   ]
  },
  {
   "cell_type": "code",
   "execution_count": 4,
   "metadata": {},
   "outputs": [],
   "source": [
    "\n",
    "\n",
    "# Specify the directory where uploaded files will be saved\n",
    "UPLOAD_FOLDER = 'static/uploads'\n",
    "app.config['UPLOAD_FOLDER'] = UPLOAD_FOLDER\n",
    "\n",
    "# Ensure the folder exists\n",
    "if not os.path.exists(UPLOAD_FOLDER):\n",
    "    os.makedirs(UPLOAD_FOLDER)\n",
    "\n",
    "# Route to train data and save the file\n",
    "@app.route('/train_data', methods=[\"POST\", \"GET\"])\n",
    "def train_data():\n",
    "    if request.method == \"POST\":\n",
    "        # Prepare to collect neurons and activations\n",
    "        neurons = []\n",
    "        activations = []\n",
    "        number_layers = int(request.form['number_layers'])\n",
    "\n",
    "        for i in range(number_layers):\n",
    "    # Get number of neurons for each layer (formatted with f-string)\n",
    "            neurons.append(int(request.form.get(f'number_neurons_{i}')))\n",
    "            \n",
    "            # Get activation function for each layer (formatted with f-string)\n",
    "            activations.append(request.form.get(f'activation_function_{i}'))\n",
    "\n",
    "        print(neurons)\n",
    "        # Get the value of 'epoches' from the form\n",
    "        epoches = int(request.form['epoches'])\n",
    "        # learning_rate = request.form['learning_rate']\n",
    "        loss_function = request.form['loss_function']\n",
    "        optimizer_function = request.form['optimizer_function']\n",
    "        Target = request.form['Target']\n",
    "\n",
    "        # Get the uploaded file\n",
    "        file = request.files['file']\n",
    "        file_name=file.filename\n",
    "        # Ensure the file exists and is not empty\n",
    "        # Secure the file name to avoid security issues\n",
    "        filename = secure_filename(file.filename)\n",
    "        # Save the file to the specified folder\n",
    "        file_path = os.path.join(app.config['UPLOAD_FOLDER'], filename)\n",
    "        file.save(file_path)\n",
    "        data = pd.read_csv(file_path)\n",
    "        # call the function of training \n",
    "        model, history,test_loss,r2 = train_tensor(number_layers, neurons, activations,loss_function, optimizer_function, epoches, data,Target)\n",
    "    \n",
    "            # Render a template and pass the number of layers and saved file info\n",
    "    return render_template('result.html',summary=model.summary(),score=r2,test_loss=test_loss, activations=activations, neurons=neurons,epoches=epoches,loss_function=loss_function,optimizer_function=optimizer_function,Target=Target)\n"
   ]
  },
  {
   "cell_type": "code",
   "execution_count": 18,
   "metadata": {},
   "outputs": [
    {
     "name": "stdout",
     "output_type": "stream",
     "text": [
      "Epoch 1/10\n"
     ]
    },
    {
     "name": "stderr",
     "output_type": "stream",
     "text": [
      "c:\\Users\\moham\\AppData\\Local\\Programs\\Python\\Python312\\Lib\\site-packages\\keras\\src\\layers\\core\\input_layer.py:26: UserWarning: Argument `input_shape` is deprecated. Use `shape` instead.\n",
      "  warnings.warn(\n"
     ]
    },
    {
     "name": "stdout",
     "output_type": "stream",
     "text": [
      "\u001b[1m2/2\u001b[0m \u001b[32m━━━━━━━━━━━━━━━━━━━━\u001b[0m\u001b[37m\u001b[0m \u001b[1m1s\u001b[0m 148ms/step - accuracy: 0.6042 - loss: 0.6938 - val_accuracy: 0.7500 - val_loss: 0.6410\n",
      "Epoch 2/10\n",
      "\u001b[1m2/2\u001b[0m \u001b[32m━━━━━━━━━━━━━━━━━━━━\u001b[0m\u001b[37m\u001b[0m \u001b[1m0s\u001b[0m 26ms/step - accuracy: 0.6146 - loss: 0.6642 - val_accuracy: 0.7500 - val_loss: 0.6090\n",
      "Epoch 3/10\n",
      "\u001b[1m2/2\u001b[0m \u001b[32m━━━━━━━━━━━━━━━━━━━━\u001b[0m\u001b[37m\u001b[0m \u001b[1m0s\u001b[0m 31ms/step - accuracy: 0.6771 - loss: 0.6218 - val_accuracy: 0.8125 - val_loss: 0.5775\n",
      "Epoch 4/10\n",
      "\u001b[1m2/2\u001b[0m \u001b[32m━━━━━━━━━━━━━━━━━━━━\u001b[0m\u001b[37m\u001b[0m \u001b[1m0s\u001b[0m 26ms/step - accuracy: 0.7188 - loss: 0.5912 - val_accuracy: 0.8750 - val_loss: 0.5492\n",
      "Epoch 5/10\n",
      "\u001b[1m2/2\u001b[0m \u001b[32m━━━━━━━━━━━━━━━━━━━━\u001b[0m\u001b[37m\u001b[0m \u001b[1m0s\u001b[0m 42ms/step - accuracy: 0.7917 - loss: 0.5694 - val_accuracy: 0.8750 - val_loss: 0.5202\n",
      "Epoch 6/10\n",
      "\u001b[1m2/2\u001b[0m \u001b[32m━━━━━━━━━━━━━━━━━━━━\u001b[0m\u001b[37m\u001b[0m \u001b[1m0s\u001b[0m 30ms/step - accuracy: 0.8021 - loss: 0.5466 - val_accuracy: 0.8750 - val_loss: 0.4901\n",
      "Epoch 7/10\n",
      "\u001b[1m2/2\u001b[0m \u001b[32m━━━━━━━━━━━━━━━━━━━━\u001b[0m\u001b[37m\u001b[0m \u001b[1m0s\u001b[0m 28ms/step - accuracy: 0.8229 - loss: 0.5265 - val_accuracy: 0.9375 - val_loss: 0.4607\n",
      "Epoch 8/10\n",
      "\u001b[1m2/2\u001b[0m \u001b[32m━━━━━━━━━━━━━━━━━━━━\u001b[0m\u001b[37m\u001b[0m \u001b[1m0s\u001b[0m 28ms/step - accuracy: 0.8646 - loss: 0.5052 - val_accuracy: 0.9375 - val_loss: 0.4333\n",
      "Epoch 9/10\n",
      "\u001b[1m2/2\u001b[0m \u001b[32m━━━━━━━━━━━━━━━━━━━━\u001b[0m\u001b[37m\u001b[0m \u001b[1m0s\u001b[0m 28ms/step - accuracy: 0.9062 - loss: 0.4635 - val_accuracy: 0.9375 - val_loss: 0.4068\n",
      "Epoch 10/10\n",
      "\u001b[1m2/2\u001b[0m \u001b[32m━━━━━━━━━━━━━━━━━━━━\u001b[0m\u001b[37m\u001b[0m \u001b[1m0s\u001b[0m 24ms/step - accuracy: 0.8958 - loss: 0.4353 - val_accuracy: 0.9375 - val_loss: 0.3814\n",
      "Epoch 1/10\n"
     ]
    },
    {
     "name": "stderr",
     "output_type": "stream",
     "text": [
      "c:\\Users\\moham\\AppData\\Local\\Programs\\Python\\Python312\\Lib\\site-packages\\keras\\src\\layers\\core\\input_layer.py:26: UserWarning: Argument `input_shape` is deprecated. Use `shape` instead.\n",
      "  warnings.warn(\n"
     ]
    },
    {
     "name": "stdout",
     "output_type": "stream",
     "text": [
      "\u001b[1m2/2\u001b[0m \u001b[32m━━━━━━━━━━━━━━━━━━━━\u001b[0m\u001b[37m\u001b[0m \u001b[1m1s\u001b[0m 161ms/step - accuracy: 0.5833 - loss: 0.7062 - val_accuracy: 0.5625 - val_loss: 0.7027\n",
      "Epoch 2/10\n",
      "\u001b[1m2/2\u001b[0m \u001b[32m━━━━━━━━━━━━━━━━━━━━\u001b[0m\u001b[37m\u001b[0m \u001b[1m0s\u001b[0m 28ms/step - accuracy: 0.6771 - loss: 0.6697 - val_accuracy: 0.6250 - val_loss: 0.6721\n",
      "Epoch 3/10\n",
      "\u001b[1m2/2\u001b[0m \u001b[32m━━━━━━━━━━━━━━━━━━━━\u001b[0m\u001b[37m\u001b[0m \u001b[1m0s\u001b[0m 41ms/step - accuracy: 0.6979 - loss: 0.6377 - val_accuracy: 0.6250 - val_loss: 0.6438\n",
      "Epoch 4/10\n",
      "\u001b[1m2/2\u001b[0m \u001b[32m━━━━━━━━━━━━━━━━━━━━\u001b[0m\u001b[37m\u001b[0m \u001b[1m0s\u001b[0m 35ms/step - accuracy: 0.7292 - loss: 0.5989 - val_accuracy: 0.6250 - val_loss: 0.6178\n",
      "Epoch 5/10\n",
      "\u001b[1m2/2\u001b[0m \u001b[32m━━━━━━━━━━━━━━━━━━━━\u001b[0m\u001b[37m\u001b[0m \u001b[1m0s\u001b[0m 34ms/step - accuracy: 0.8333 - loss: 0.5631 - val_accuracy: 0.6250 - val_loss: 0.5930\n",
      "Epoch 6/10\n",
      "\u001b[1m2/2\u001b[0m \u001b[32m━━━━━━━━━━━━━━━━━━━━\u001b[0m\u001b[37m\u001b[0m \u001b[1m0s\u001b[0m 26ms/step - accuracy: 0.7917 - loss: 0.5464 - val_accuracy: 0.6250 - val_loss: 0.5691\n",
      "Epoch 7/10\n",
      "\u001b[1m2/2\u001b[0m \u001b[32m━━━━━━━━━━━━━━━━━━━━\u001b[0m\u001b[37m\u001b[0m \u001b[1m0s\u001b[0m 31ms/step - accuracy: 0.8646 - loss: 0.5013 - val_accuracy: 0.6875 - val_loss: 0.5447\n",
      "Epoch 8/10\n",
      "\u001b[1m2/2\u001b[0m \u001b[32m━━━━━━━━━━━━━━━━━━━━\u001b[0m\u001b[37m\u001b[0m \u001b[1m0s\u001b[0m 34ms/step - accuracy: 0.8750 - loss: 0.4795 - val_accuracy: 0.7500 - val_loss: 0.5208\n",
      "Epoch 9/10\n",
      "\u001b[1m2/2\u001b[0m \u001b[32m━━━━━━━━━━━━━━━━━━━━\u001b[0m\u001b[37m\u001b[0m \u001b[1m0s\u001b[0m 32ms/step - accuracy: 0.8958 - loss: 0.4598 - val_accuracy: 0.7500 - val_loss: 0.4952\n",
      "Epoch 10/10\n",
      "\u001b[1m2/2\u001b[0m \u001b[32m━━━━━━━━━━━━━━━━━━━━\u001b[0m\u001b[37m\u001b[0m \u001b[1m0s\u001b[0m 24ms/step - accuracy: 0.9271 - loss: 0.4288 - val_accuracy: 0.7500 - val_loss: 0.4698\n"
     ]
    },
    {
     "data": {
      "text/plain": [
       "(<Sequential name=sequential_4, built=True>,\n",
       " <keras.src.callbacks.history.History at 0x218b42d5820>)"
      ]
     },
     "execution_count": 18,
     "metadata": {},
     "output_type": "execute_result"
    },
    {
     "data": {
      "image/png": "[encoded data removed]",
      "text/plain": [
       "<Figure size 640x480 with 1 Axes>"
      ]
     },
     "metadata": {},
     "output_type": "display_data"
    },
    {
     "data": {
      "image/png": "[encoded data removed]",
      "text/plain": [
       "<Figure size 640x480 with 1 Axes>"
      ]
     },
     "metadata": {},
     "output_type": "display_data"
    }
   ],
   "source": [
    "import matplotlib.pyplot as plt\n",
    "import numpy as np\n",
    "\n",
    "# Function to log learning rate and loss\n",
    "class LearningRateLogger(tf.keras.callbacks.Callback):\n",
    "    def __init__(self):\n",
    "        self.learning_rates = []\n",
    "        self.losses = []\n",
    "\n",
    "    def on_epoch_end(self, epoch, logs=None):\n",
    "        lr = float(tf.keras.backend.get_value(self.model.optimizer.learning_rate))\n",
    "        loss = logs.get('loss')\n",
    "        self.learning_rates.append(lr)\n",
    "        self.losses.append(loss)\n",
    "\n",
    "# Modified train_tensor function\n",
    "def train_tensor(nbr_layers, nbr_neurals, activation, loss, optimizer, epoches, data, target_column, task_type, alpha=0.001):\n",
    "    X = data.drop(columns=[target_column])\n",
    "    y = data[target_column]\n",
    "    \n",
    "    if task_type == 'classification':\n",
    "        num_classes = len(y.unique())\n",
    "        y = pd.get_dummies(y)  # One-hot encoding for classification\n",
    "    \n",
    "    X_train, X_test, y_train, y_test = train_test_split(X, y, test_size=0.2)\n",
    "    \n",
    "    model = models.Sequential()\n",
    "    model.add(layers.InputLayer(input_shape=(X_train.shape[1],)))\n",
    "    \n",
    "    for i in range(nbr_layers):\n",
    "        model.add(layers.Dense(units=nbr_neurals[i], activation=activation[i]))\n",
    "    \n",
    "    if task_type == 'regression':\n",
    "        model.add(layers.Dense(1))  # Single output for regression\n",
    "    elif task_type == 'classification':\n",
    "        model.add(layers.Dense(num_classes, activation='softmax'))  # Softmax for multi-class classification\n",
    "    \n",
    "    optimizer_func = getattr(tf.keras.optimizers, optimizer)(learning_rate=alpha)\n",
    "    \n",
    "    if task_type == 'regression':\n",
    "        model.compile(loss=loss, optimizer=optimizer_func)\n",
    "    elif task_type == 'classification':\n",
    "        model.compile(loss='categorical_crossentropy', optimizer=optimizer_func, metrics=['accuracy'])\n",
    "\n",
    "    # Initialize learning rate logger\n",
    "    lr_logger = LearningRateLogger()\n",
    "    \n",
    "    history = model.fit(X_train, y_train, epochs=epoches, batch_size=32, validation_split=0.2, callbacks=[lr_logger])\n",
    "    \n",
    "    # Plot learning rate vs. loss\n",
    "    plt.figure()\n",
    "    plt.plot(lr_logger.learning_rates, lr_logger.losses)\n",
    "    plt.xscale('log')\n",
    "    plt.xlabel('Learning Rate')\n",
    "    plt.ylabel('Loss')\n",
    "    plt.title('Learning Rate vs. Loss')\n",
    "    plt.grid()\n",
    "    plt.savefig('static/images/plots/lr_vs_loss.png')\n",
    "\n",
    "    return model, history\n",
    "train_tensor(\n",
    "    nbr_layers=3,\n",
    "    nbr_neurals=[64, 32, 16],\n",
    "    activation=['relu', 'relu', 'relu'],\n",
    "    loss='categorical_crossentropy',\n",
    "    optimizer='Adam',\n",
    "    epoches=10,\n",
    "    data=data,\n",
    "    target_column='Class',\n",
    "    task_type='classification',\n",
    "    alpha=0.001\n",
    ")\n",
    "import pandas as pd\n",
    "from sklearn.datasets import make_classification\n",
    "\n",
    "# Generate a sample dataset for classification\n",
    "X, y = make_classification(n_samples=100, n_features=5, n_classes=2, random_state=42)\n",
    "\n",
    "# Convert to DataFrame\n",
    "data = pd.DataFrame(X, columns=[f'Feature{i}' for i in range(1, 6)])\n",
    "data['Class'] = y  # Add target column 'Class'\n",
    "\n",
    "# Save it to a CSV (optional if you want to test with a file)\n",
    "data.to_csv('test_data.csv', index=False)\n",
    "train_tensor(\n",
    "    nbr_layers=3,\n",
    "    nbr_neurals=[64, 32, 16],\n",
    "    activation=['relu', 'relu', 'relu'],\n",
    "    loss='categorical_crossentropy',\n",
    "    optimizer='Adam',\n",
    "    epoches=10,\n",
    "    data=data,\n",
    "    target_column='Class',\n",
    "    task_type='classification',\n",
    "    alpha=0.001\n",
    ")\n"
   ]
  },
  {
   "cell_type": "code",
   "execution_count": 5,
   "metadata": {},
   "outputs": [
    {
     "name": "stdout",
     "output_type": "stream",
     "text": [
      " * Serving Flask app '__main__'\n",
      " * Debug mode: on\n"
     ]
    },
    {
     "name": "stderr",
     "output_type": "stream",
     "text": [
      "WARNING: This is a development server. Do not use it in a production deployment. Use a production WSGI server instead.\n",
      " * Running on http://127.0.0.1:4000\n",
      "Press CTRL+C to quit\n",
      "127.0.0.1 - - [21/Oct/2024 13:23:41] \"GET / HTTP/1.1\" 200 -\n",
      "127.0.0.1 - - [21/Oct/2024 13:23:41] \"GET /static/css/style.css HTTP/1.1\" 200 -\n",
      "127.0.0.1 - - [21/Oct/2024 13:23:41] \"GET /static/js/popper.min.js HTTP/1.1\" 304 -\n",
      "127.0.0.1 - - [21/Oct/2024 13:23:41] \"GET /static/images/item-background/item1.png HTTP/1.1\" 304 -\n",
      "127.0.0.1 - - [21/Oct/2024 13:23:41] \"GET /static/icon/icon.css HTTP/1.1\" 304 -\n",
      "127.0.0.1 - - [21/Oct/2024 13:23:41] \"GET /static/css/responsive.css HTTP/1.1\" 200 -\n",
      "127.0.0.1 - - [21/Oct/2024 13:23:41] \"GET /static/images/item-background/item8.png HTTP/1.1\" 304 -\n",
      "127.0.0.1 - - [21/Oct/2024 13:23:41] \"GET /static/css/swiper-bundle.min.css HTTP/1.1\" 304 -\n",
      "127.0.0.1 - - [21/Oct/2024 13:23:41] \"GET /static/css/shortcodes.css HTTP/1.1\" 304 -\n",
      "127.0.0.1 - - [21/Oct/2024 13:23:41] \"GET /static/images/item-background/item7.png HTTP/1.1\" 304 -\n",
      "127.0.0.1 - - [21/Oct/2024 13:23:41] \"GET /static/css/animation.css HTTP/1.1\" 304 -\n",
      "127.0.0.1 - - [21/Oct/2024 13:23:41] \"GET /static/css/animate.min.css HTTP/1.1\" 304 -\n",
      "127.0.0.1 - - [21/Oct/2024 13:23:41] \"GET /static/font/font.css HTTP/1.1\" 304 -\n",
      "127.0.0.1 - - [21/Oct/2024 13:23:41] \"GET /static/css/bootstrap.css HTTP/1.1\" 304 -\n",
      "127.0.0.1 - - [21/Oct/2024 13:23:41] \"GET /static/js/jquery.min.js HTTP/1.1\" 304 -\n",
      "127.0.0.1 - - [21/Oct/2024 13:23:41] \"GET /static/js/bootstrap.min.js HTTP/1.1\" 304 -\n",
      "127.0.0.1 - - [21/Oct/2024 13:23:41] \"GET /static/js/swiper.js HTTP/1.1\" 304 -\n",
      "127.0.0.1 - - [21/Oct/2024 13:23:41] \"GET /static/js/countto.js HTTP/1.1\" 304 -\n",
      "127.0.0.1 - - [21/Oct/2024 13:23:41] \"GET /static/js/count-down.js HTTP/1.1\" 304 -\n",
      "127.0.0.1 - - [21/Oct/2024 13:23:41] \"GET /static/js/swiper-bundle.min.js HTTP/1.1\" 304 -\n",
      "127.0.0.1 - - [21/Oct/2024 13:23:41] \"GET /static/js/simpleParallax.min.js HTTP/1.1\" 304 -\n",
      "127.0.0.1 - - [21/Oct/2024 13:23:41] \"GET /static/icon/fonts/icomoon0ec5.ttf?mig12u HTTP/1.1\" 304 -\n",
      "127.0.0.1 - - [21/Oct/2024 13:23:41] \"GET /static/js/SplitText.js HTTP/1.1\" 304 -\n",
      "127.0.0.1 - - [21/Oct/2024 13:23:41] \"GET /static/images/item-background/bg-home7.png HTTP/1.1\" 304 -\n",
      "127.0.0.1 - - [21/Oct/2024 13:23:41] \"GET /static/js/gsap.js HTTP/1.1\" 304 -\n",
      "127.0.0.1 - - [21/Oct/2024 13:23:41] \"GET /static/js/wow.min.js HTTP/1.1\" 200 -\n",
      "127.0.0.1 - - [21/Oct/2024 13:23:41] \"GET /static/images/item-background/item15.png HTTP/1.1\" 304 -\n",
      "127.0.0.1 - - [21/Oct/2024 13:23:41] \"GET /static/images/item-background/slider-animation.png HTTP/1.1\" 304 -\n",
      "127.0.0.1 - - [21/Oct/2024 13:23:41] \"GET /static/images/item-background/item5.png HTTP/1.1\" 304 -\n",
      "127.0.0.1 - - [21/Oct/2024 13:23:41] \"GET /static/images/item-background/item17.png HTTP/1.1\" 304 -\n",
      "127.0.0.1 - - [21/Oct/2024 13:23:41] \"GET /static/images/item-background/item16.png HTTP/1.1\" 304 -\n",
      "127.0.0.1 - - [21/Oct/2024 13:23:41] \"GET /static/images/item-background/item2.png HTTP/1.1\" 304 -\n",
      "127.0.0.1 - - [21/Oct/2024 13:23:41] \"GET /static/js/gsap-animation.js HTTP/1.1\" 200 -\n",
      "127.0.0.1 - - [21/Oct/2024 13:23:41] \"GET /static/js/tsparticles.js HTTP/1.1\" 200 -\n",
      "127.0.0.1 - - [21/Oct/2024 13:23:41] \"GET /static/js/ScrollTrigger.js HTTP/1.1\" 200 -\n",
      "127.0.0.1 - - [21/Oct/2024 13:23:41] \"GET /static/images/item-background/item9.png HTTP/1.1\" 304 -\n",
      "127.0.0.1 - - [21/Oct/2024 13:23:41] \"GET /static/images/backgroup-section/popup.png HTTP/1.1\" 304 -\n",
      "127.0.0.1 - - [21/Oct/2024 13:23:41] \"GET /static/images/item-background/item6-img.png HTTP/1.1\" 304 -\n",
      "127.0.0.1 - - [21/Oct/2024 13:23:41] \"GET /static/js/main.js HTTP/1.1\" 200 -\n",
      "127.0.0.1 - - [21/Oct/2024 13:23:42] \"GET /static/images/logo/logo.png HTTP/1.1\" 200 -\n",
      "127.0.0.1 - - [21/Oct/2024 13:23:42] \"GET /static/js/tsparticles.min.js HTTP/1.1\" 200 -\n",
      "127.0.0.1 - - [21/Oct/2024 13:23:42] \"GET /static/images/logo/logo@2x.png HTTP/1.1\" 404 -\n",
      "127.0.0.1 - - [21/Oct/2024 13:23:53] \"GET /train_model HTTP/1.1\" 200 -\n",
      "127.0.0.1 - - [21/Oct/2024 13:23:53] \"GET /static/css/style.css HTTP/1.1\" 304 -\n",
      "127.0.0.1 - - [21/Oct/2024 13:23:53] \"GET /static/css/responsive.css HTTP/1.1\" 304 -\n",
      "127.0.0.1 - - [21/Oct/2024 13:23:53] \"GET /static/js/jquery.min.js HTTP/1.1\" 304 -\n",
      "127.0.0.1 - - [21/Oct/2024 13:23:53] \"GET /static/images/avatar/avatar-small-09.png HTTP/1.1\" 404 -\n",
      "127.0.0.1 - - [21/Oct/2024 13:23:53] \"GET /static/images/blog/sidebar-06.jpg HTTP/1.1\" 304 -\n",
      "127.0.0.1 - - [21/Oct/2024 13:23:53] \"GET /static/js/popper.min.js HTTP/1.1\" 304 -\n",
      "127.0.0.1 - - [21/Oct/2024 13:23:53] \"GET /static/js/bootstrap.min.js HTTP/1.1\" 304 -\n",
      "127.0.0.1 - - [21/Oct/2024 13:23:53] \"GET /static/css/animation.css HTTP/1.1\" 304 -\n",
      "127.0.0.1 - - [21/Oct/2024 13:23:53] \"GET /static/icon/icon.css HTTP/1.1\" 304 -\n",
      "127.0.0.1 - - [21/Oct/2024 13:23:53] \"GET /static/css/animate.min.css HTTP/1.1\" 304 -\n",
      "127.0.0.1 - - [21/Oct/2024 13:23:53] \"GET /static/css/shortcodes.css HTTP/1.1\" 304 -\n",
      "127.0.0.1 - - [21/Oct/2024 13:23:53] \"GET /static/css/swiper-bundle.min.css HTTP/1.1\" 304 -\n",
      "127.0.0.1 - - [21/Oct/2024 13:23:53] \"GET /static/font/font.css HTTP/1.1\" 304 -\n",
      "127.0.0.1 - - [21/Oct/2024 13:23:53] \"GET /static/css/bootstrap.css HTTP/1.1\" 304 -\n",
      "127.0.0.1 - - [21/Oct/2024 13:23:53] \"GET /static/js/swiper-bundle.min.js HTTP/1.1\" 304 -\n",
      "127.0.0.1 - - [21/Oct/2024 13:23:53] \"GET /static/js/swiper.js HTTP/1.1\" 304 -\n",
      "127.0.0.1 - - [21/Oct/2024 13:23:53] \"GET /static/js/countto.js HTTP/1.1\" 304 -\n",
      "127.0.0.1 - - [21/Oct/2024 13:23:53] \"GET /static/js/count-down.js HTTP/1.1\" 304 -\n",
      "127.0.0.1 - - [21/Oct/2024 13:23:53] \"GET /static/js/simpleParallax.min.js HTTP/1.1\" 304 -\n",
      "127.0.0.1 - - [21/Oct/2024 13:23:53] \"GET /static/js/gsap.js HTTP/1.1\" 304 -\n",
      "127.0.0.1 - - [21/Oct/2024 13:23:53] \"GET /static/js/SplitText.js HTTP/1.1\" 304 -\n",
      "127.0.0.1 - - [21/Oct/2024 13:23:53] \"GET /static/icon/fonts/icomoon0ec5.ttf?mig12u HTTP/1.1\" 304 -\n",
      "127.0.0.1 - - [21/Oct/2024 13:23:53] \"GET /static/images/logo/logo.png HTTP/1.1\" 304 -\n",
      "127.0.0.1 - - [21/Oct/2024 13:23:53] \"GET /static/images/box-icon/upload.png HTTP/1.1\" 304 -\n",
      "127.0.0.1 - - [21/Oct/2024 13:23:53] \"GET /static/js/gsap-animation.js HTTP/1.1\" 304 -\n",
      "127.0.0.1 - - [21/Oct/2024 13:23:53] \"GET /static/js/ScrollTrigger.js HTTP/1.1\" 304 -\n",
      "127.0.0.1 - - [21/Oct/2024 13:23:53] \"GET /static/js/wow.min.js HTTP/1.1\" 304 -\n",
      "127.0.0.1 - - [21/Oct/2024 13:23:53] \"GET /static/js/tsparticles.min.js HTTP/1.1\" 304 -\n",
      "127.0.0.1 - - [21/Oct/2024 13:23:53] \"GET /static/js/tsparticles.js HTTP/1.1\" 304 -\n",
      "127.0.0.1 - - [21/Oct/2024 13:23:53] \"GET /static/js/main.js HTTP/1.1\" 304 -\n",
      "127.0.0.1 - - [21/Oct/2024 13:24:19] \"GET /train_model HTTP/1.1\" 200 -\n",
      "127.0.0.1 - - [21/Oct/2024 13:24:19] \"GET /static/css/style.css HTTP/1.1\" 304 -\n",
      "127.0.0.1 - - [21/Oct/2024 13:24:19] \"GET /static/images/avatar/avatar-small-09.png HTTP/1.1\" 404 -\n",
      "127.0.0.1 - - [21/Oct/2024 13:24:20] \"GET /static/css/responsive.css HTTP/1.1\" 304 -\n",
      "127.0.0.1 - - [21/Oct/2024 13:24:20] \"GET /static/js/popper.min.js HTTP/1.1\" 304 -\n",
      "127.0.0.1 - - [21/Oct/2024 13:24:20] \"GET /static/js/jquery.min.js HTTP/1.1\" 304 -\n",
      "127.0.0.1 - - [21/Oct/2024 13:24:20] \"GET /static/js/bootstrap.min.js HTTP/1.1\" 304 -\n",
      "127.0.0.1 - - [21/Oct/2024 13:24:20] \"GET /static/images/blog/sidebar-06.jpg HTTP/1.1\" 304 -\n",
      "127.0.0.1 - - [21/Oct/2024 13:24:20] \"GET /static/icon/icon.css HTTP/1.1\" 304 -\n",
      "127.0.0.1 - - [21/Oct/2024 13:24:20] \"GET /static/css/shortcodes.css HTTP/1.1\" 304 -\n",
      "127.0.0.1 - - [21/Oct/2024 13:24:20] \"GET /static/css/animation.css HTTP/1.1\" 304 -\n",
      "127.0.0.1 - - [21/Oct/2024 13:24:20] \"GET /static/css/animate.min.css HTTP/1.1\" 304 -\n",
      "127.0.0.1 - - [21/Oct/2024 13:24:20] \"GET /static/css/swiper-bundle.min.css HTTP/1.1\" 304 -\n",
      "127.0.0.1 - - [21/Oct/2024 13:24:20] \"GET /static/font/font.css HTTP/1.1\" 304 -\n",
      "127.0.0.1 - - [21/Oct/2024 13:24:20] \"GET /static/css/bootstrap.css HTTP/1.1\" 304 -\n",
      "127.0.0.1 - - [21/Oct/2024 13:24:20] \"GET /static/js/swiper-bundle.min.js HTTP/1.1\" 304 -\n",
      "127.0.0.1 - - [21/Oct/2024 13:24:20] \"GET /static/js/swiper.js HTTP/1.1\" 304 -\n",
      "127.0.0.1 - - [21/Oct/2024 13:24:20] \"GET /static/js/countto.js HTTP/1.1\" 304 -\n",
      "127.0.0.1 - - [21/Oct/2024 13:24:20] \"GET /static/js/count-down.js HTTP/1.1\" 304 -\n",
      "127.0.0.1 - - [21/Oct/2024 13:24:20] \"GET /static/js/simpleParallax.min.js HTTP/1.1\" 304 -\n",
      "127.0.0.1 - - [21/Oct/2024 13:24:20] \"GET /static/js/gsap.js HTTP/1.1\" 304 -\n",
      "127.0.0.1 - - [21/Oct/2024 13:24:20] \"GET /static/js/SplitText.js HTTP/1.1\" 304 -\n",
      "127.0.0.1 - - [21/Oct/2024 13:24:20] \"GET /static/js/wow.min.js HTTP/1.1\" 304 -\n",
      "127.0.0.1 - - [21/Oct/2024 13:24:20] \"GET /static/js/ScrollTrigger.js HTTP/1.1\" 304 -\n",
      "127.0.0.1 - - [21/Oct/2024 13:24:20] \"GET /static/js/gsap-animation.js HTTP/1.1\" 304 -\n",
      "127.0.0.1 - - [21/Oct/2024 13:24:20] \"GET /static/js/tsparticles.min.js HTTP/1.1\" 304 -\n",
      "127.0.0.1 - - [21/Oct/2024 13:24:20] \"GET /static/icon/fonts/icomoon0ec5.ttf?mig12u HTTP/1.1\" 304 -\n",
      "127.0.0.1 - - [21/Oct/2024 13:24:20] \"GET /static/images/logo/logo.png HTTP/1.1\" 304 -\n",
      "127.0.0.1 - - [21/Oct/2024 13:24:20] \"GET /static/images/box-icon/upload.png HTTP/1.1\" 304 -\n",
      "127.0.0.1 - - [21/Oct/2024 13:24:20] \"GET /static/js/tsparticles.js HTTP/1.1\" 304 -\n",
      "127.0.0.1 - - [21/Oct/2024 13:24:20] \"GET /static/js/main.js HTTP/1.1\" 304 -\n"
     ]
    },
    {
     "name": "stdout",
     "output_type": "stream",
     "text": [
      "[10]\n"
     ]
    },
    {
     "name": "stderr",
     "output_type": "stream",
     "text": [
      "c:\\Users\\moham\\AppData\\Local\\Programs\\Python\\Python312\\Lib\\site-packages\\keras\\src\\layers\\core\\input_layer.py:26: UserWarning: Argument `input_shape` is deprecated. Use `shape` instead.\n",
      "  warnings.warn(\n"
     ]
    },
    {
     "name": "stdout",
     "output_type": "stream",
     "text": [
      "Epoch 1/5\n",
      "\u001b[1m5697/5697\u001b[0m \u001b[32m━━━━━━━━━━━━━━━━━━━━\u001b[0m\u001b[37m\u001b[0m \u001b[1m7s\u001b[0m 1ms/step - loss: 0.0298 - val_loss: 0.0244\n",
      "Epoch 2/5\n",
      "\u001b[1m5697/5697\u001b[0m \u001b[32m━━━━━━━━━━━━━━━━━━━━\u001b[0m\u001b[37m\u001b[0m \u001b[1m5s\u001b[0m 878us/step - loss: 0.0301 - val_loss: 0.0244\n",
      "Epoch 3/5\n",
      "\u001b[1m5697/5697\u001b[0m \u001b[32m━━━━━━━━━━━━━━━━━━━━\u001b[0m\u001b[37m\u001b[0m \u001b[1m5s\u001b[0m 877us/step - loss: 0.0296 - val_loss: 0.0244\n",
      "Epoch 4/5\n",
      "\u001b[1m5697/5697\u001b[0m \u001b[32m━━━━━━━━━━━━━━━━━━━━\u001b[0m\u001b[37m\u001b[0m \u001b[1m5s\u001b[0m 879us/step - loss: 0.0312 - val_loss: 0.0244\n",
      "Epoch 5/5\n",
      "\u001b[1m5697/5697\u001b[0m \u001b[32m━━━━━━━━━━━━━━━━━━━━\u001b[0m\u001b[37m\u001b[0m \u001b[1m5s\u001b[0m 896us/step - loss: 0.0304 - val_loss: 0.0244\n",
      "\u001b[1m1781/1781\u001b[0m \u001b[32m━━━━━━━━━━━━━━━━━━━━\u001b[0m\u001b[37m\u001b[0m \u001b[1m1s\u001b[0m 655us/step - loss: 0.0230\n",
      "\u001b[1m1781/1781\u001b[0m \u001b[32m━━━━━━━━━━━━━━━━━━━━\u001b[0m\u001b[37m\u001b[0m \u001b[1m1s\u001b[0m 685us/step\n"
     ]
    },
    {
     "name": "stderr",
     "output_type": "stream",
     "text": [
      "WARNING:absl:You are saving your model as an HDF5 file via `model.save()` or `keras.saving.save_model(model)`. This file format is considered legacy. We recommend using instead the native Keras format, e.g. `model.save('my_model.keras')` or `keras.saving.save_model(model, 'my_model.keras')`. \n"
     ]
    },
    {
     "data": {
      "text/html": [
       "<pre style=\"white-space:pre;overflow-x:auto;line-height:normal;font-family:Menlo,'DejaVu Sans Mono',consolas,'Courier New',monospace\"><span style=\"font-weight: bold\">Model: \"sequential\"</span>\n",
       "</pre>\n"
      ],
      "text/plain": [
       "\u001b[1mModel: \"sequential\"\u001b[0m\n"
      ]
     },
     "metadata": {},
     "output_type": "display_data"
    },
    {
     "data": {
      "text/html": [
       "<pre style=\"white-space:pre;overflow-x:auto;line-height:normal;font-family:Menlo,'DejaVu Sans Mono',consolas,'Courier New',monospace\">┏━━━━━━━━━━━━━━━━━━━━━━━━━━━━━━━━━┳━━━━━━━━━━━━━━━━━━━━━━━━┳━━━━━━━━━━━━━━━┓\n",
       "┃<span style=\"font-weight: bold\"> Layer (type)                    </span>┃<span style=\"font-weight: bold\"> Output Shape           </span>┃<span style=\"font-weight: bold\">       Param # </span>┃\n",
       "┡━━━━━━━━━━━━━━━━━━━━━━━━━━━━━━━━━╇━━━━━━━━━━━━━━━━━━━━━━━━╇━━━━━━━━━━━━━━━┩\n",
       "│ dense (<span style=\"color: #0087ff; text-decoration-color: #0087ff\">Dense</span>)                   │ (<span style=\"color: #00d7ff; text-decoration-color: #00d7ff\">None</span>, <span style=\"color: #00af00; text-decoration-color: #00af00\">10</span>)             │           <span style=\"color: #00af00; text-decoration-color: #00af00\">310</span> │\n",
       "├─────────────────────────────────┼────────────────────────┼───────────────┤\n",
       "│ dense_1 (<span style=\"color: #0087ff; text-decoration-color: #0087ff\">Dense</span>)                 │ (<span style=\"color: #00d7ff; text-decoration-color: #00d7ff\">None</span>, <span style=\"color: #00af00; text-decoration-color: #00af00\">1</span>)              │            <span style=\"color: #00af00; text-decoration-color: #00af00\">11</span> │\n",
       "└─────────────────────────────────┴────────────────────────┴───────────────┘\n",
       "</pre>\n"
      ],
      "text/plain": [
       "┏━━━━━━━━━━━━━━━━━━━━━━━━━━━━━━━━━┳━━━━━━━━━━━━━━━━━━━━━━━━┳━━━━━━━━━━━━━━━┓\n",
       "┃\u001b[1m \u001b[0m\u001b[1mLayer (type)                   \u001b[0m\u001b[1m \u001b[0m┃\u001b[1m \u001b[0m\u001b[1mOutput Shape          \u001b[0m\u001b[1m \u001b[0m┃\u001b[1m \u001b[0m\u001b[1m      Param #\u001b[0m\u001b[1m \u001b[0m┃\n",
       "┡━━━━━━━━━━━━━━━━━━━━━━━━━━━━━━━━━╇━━━━━━━━━━━━━━━━━━━━━━━━╇━━━━━━━━━━━━━━━┩\n",
       "│ dense (\u001b[38;5;33mDense\u001b[0m)                   │ (\u001b[38;5;45mNone\u001b[0m, \u001b[38;5;34m10\u001b[0m)             │           \u001b[38;5;34m310\u001b[0m │\n",
       "├─────────────────────────────────┼────────────────────────┼───────────────┤\n",
       "│ dense_1 (\u001b[38;5;33mDense\u001b[0m)                 │ (\u001b[38;5;45mNone\u001b[0m, \u001b[38;5;34m1\u001b[0m)              │            \u001b[38;5;34m11\u001b[0m │\n",
       "└─────────────────────────────────┴────────────────────────┴───────────────┘\n"
      ]
     },
     "metadata": {},
     "output_type": "display_data"
    },
    {
     "data": {
      "text/html": [
       "<pre style=\"white-space:pre;overflow-x:auto;line-height:normal;font-family:Menlo,'DejaVu Sans Mono',consolas,'Courier New',monospace\"><span style=\"font-weight: bold\"> Total params: </span><span style=\"color: #00af00; text-decoration-color: #00af00\">965</span> (3.77 KB)\n",
       "</pre>\n"
      ],
      "text/plain": [
       "\u001b[1m Total params: \u001b[0m\u001b[38;5;34m965\u001b[0m (3.77 KB)\n"
      ]
     },
     "metadata": {},
     "output_type": "display_data"
    },
    {
     "data": {
      "text/html": [
       "<pre style=\"white-space:pre;overflow-x:auto;line-height:normal;font-family:Menlo,'DejaVu Sans Mono',consolas,'Courier New',monospace\"><span style=\"font-weight: bold\"> Trainable params: </span><span style=\"color: #00af00; text-decoration-color: #00af00\">321</span> (1.25 KB)\n",
       "</pre>\n"
      ],
      "text/plain": [
       "\u001b[1m Trainable params: \u001b[0m\u001b[38;5;34m321\u001b[0m (1.25 KB)\n"
      ]
     },
     "metadata": {},
     "output_type": "display_data"
    },
    {
     "data": {
      "text/html": [
       "<pre style=\"white-space:pre;overflow-x:auto;line-height:normal;font-family:Menlo,'DejaVu Sans Mono',consolas,'Courier New',monospace\"><span style=\"font-weight: bold\"> Non-trainable params: </span><span style=\"color: #00af00; text-decoration-color: #00af00\">0</span> (0.00 B)\n",
       "</pre>\n"
      ],
      "text/plain": [
       "\u001b[1m Non-trainable params: \u001b[0m\u001b[38;5;34m0\u001b[0m (0.00 B)\n"
      ]
     },
     "metadata": {},
     "output_type": "display_data"
    },
    {
     "data": {
      "text/html": [
       "<pre style=\"white-space:pre;overflow-x:auto;line-height:normal;font-family:Menlo,'DejaVu Sans Mono',consolas,'Courier New',monospace\"><span style=\"font-weight: bold\"> Optimizer params: </span><span style=\"color: #00af00; text-decoration-color: #00af00\">644</span> (2.52 KB)\n",
       "</pre>\n"
      ],
      "text/plain": [
       "\u001b[1m Optimizer params: \u001b[0m\u001b[38;5;34m644\u001b[0m (2.52 KB)\n"
      ]
     },
     "metadata": {},
     "output_type": "display_data"
    },
    {
     "name": "stderr",
     "output_type": "stream",
     "text": [
      "127.0.0.1 - - [21/Oct/2024 13:26:53] \"POST /train_data HTTP/1.1\" 200 -\n",
      "INFO:werkzeug:127.0.0.1 - - [21/Oct/2024 13:26:53] \"POST /train_data HTTP/1.1\" 200 -\n",
      "127.0.0.1 - - [21/Oct/2024 13:26:53] \"GET /static/css/style.css HTTP/1.1\" 304 -\n",
      "INFO:werkzeug:127.0.0.1 - - [21/Oct/2024 13:26:53] \"\u001b[36mGET /static/css/style.css HTTP/1.1\u001b[0m\" 304 -\n",
      "127.0.0.1 - - [21/Oct/2024 13:26:53] \"GET /static/css/responsive.css HTTP/1.1\" 304 -\n",
      "INFO:werkzeug:127.0.0.1 - - [21/Oct/2024 13:26:53] \"\u001b[36mGET /static/css/responsive.css HTTP/1.1\u001b[0m\" 304 -\n",
      "127.0.0.1 - - [21/Oct/2024 13:26:53] \"GET /static/images/plots/model_loss_plot.png HTTP/1.1\" 200 -\n",
      "INFO:werkzeug:127.0.0.1 - - [21/Oct/2024 13:26:53] \"GET /static/images/plots/model_loss_plot.png HTTP/1.1\" 200 -\n",
      "127.0.0.1 - - [21/Oct/2024 13:26:53] \"GET /static/images/plots/model_performance_plot.png HTTP/1.1\" 200 -\n",
      "INFO:werkzeug:127.0.0.1 - - [21/Oct/2024 13:26:53] \"GET /static/images/plots/model_performance_plot.png HTTP/1.1\" 200 -\n",
      "127.0.0.1 - - [21/Oct/2024 13:26:53] \"GET /static/icon/icon.css HTTP/1.1\" 304 -\n",
      "INFO:werkzeug:127.0.0.1 - - [21/Oct/2024 13:26:53] \"\u001b[36mGET /static/icon/icon.css HTTP/1.1\u001b[0m\" 304 -\n",
      "127.0.0.1 - - [21/Oct/2024 13:26:53] \"GET /static/css/shortcodes.css HTTP/1.1\" 304 -\n",
      "INFO:werkzeug:127.0.0.1 - - [21/Oct/2024 13:26:53] \"\u001b[36mGET /static/css/shortcodes.css HTTP/1.1\u001b[0m\" 304 -\n",
      "127.0.0.1 - - [21/Oct/2024 13:26:53] \"GET /static/css/animation.css HTTP/1.1\" 304 -\n",
      "INFO:werkzeug:127.0.0.1 - - [21/Oct/2024 13:26:53] \"\u001b[36mGET /static/css/animation.css HTTP/1.1\u001b[0m\" 304 -\n",
      "127.0.0.1 - - [21/Oct/2024 13:26:53] \"GET /static/css/animate.min.css HTTP/1.1\" 304 -\n",
      "INFO:werkzeug:127.0.0.1 - - [21/Oct/2024 13:26:53] \"\u001b[36mGET /static/css/animate.min.css HTTP/1.1\u001b[0m\" 304 -\n",
      "127.0.0.1 - - [21/Oct/2024 13:26:53] \"GET /static/css/swiper-bundle.min.css HTTP/1.1\" 304 -\n",
      "INFO:werkzeug:127.0.0.1 - - [21/Oct/2024 13:26:53] \"\u001b[36mGET /static/css/swiper-bundle.min.css HTTP/1.1\u001b[0m\" 304 -\n",
      "127.0.0.1 - - [21/Oct/2024 13:26:53] \"GET /static/font/font.css HTTP/1.1\" 304 -\n",
      "INFO:werkzeug:127.0.0.1 - - [21/Oct/2024 13:26:53] \"\u001b[36mGET /static/font/font.css HTTP/1.1\u001b[0m\" 304 -\n",
      "127.0.0.1 - - [21/Oct/2024 13:26:53] \"GET /static/css/bootstrap.css HTTP/1.1\" 304 -\n",
      "INFO:werkzeug:127.0.0.1 - - [21/Oct/2024 13:26:53] \"\u001b[36mGET /static/css/bootstrap.css HTTP/1.1\u001b[0m\" 304 -\n",
      "127.0.0.1 - - [21/Oct/2024 13:26:53] \"GET /static/js/jquery.min.js HTTP/1.1\" 304 -\n",
      "INFO:werkzeug:127.0.0.1 - - [21/Oct/2024 13:26:53] \"\u001b[36mGET /static/js/jquery.min.js HTTP/1.1\u001b[0m\" 304 -\n",
      "127.0.0.1 - - [21/Oct/2024 13:26:53] \"GET /static/images/logo/logo.png HTTP/1.1\" 304 -\n",
      "INFO:werkzeug:127.0.0.1 - - [21/Oct/2024 13:26:53] \"\u001b[36mGET /static/images/logo/logo.png HTTP/1.1\u001b[0m\" 304 -\n",
      "127.0.0.1 - - [21/Oct/2024 13:26:53] \"GET /static/js/popper.min.js HTTP/1.1\" 304 -\n",
      "INFO:werkzeug:127.0.0.1 - - [21/Oct/2024 13:26:53] \"\u001b[36mGET /static/js/popper.min.js HTTP/1.1\u001b[0m\" 304 -\n",
      "127.0.0.1 - - [21/Oct/2024 13:26:53] \"GET /static/js/bootstrap.min.js HTTP/1.1\" 304 -\n",
      "INFO:werkzeug:127.0.0.1 - - [21/Oct/2024 13:26:53] \"\u001b[36mGET /static/js/bootstrap.min.js HTTP/1.1\u001b[0m\" 304 -\n",
      "127.0.0.1 - - [21/Oct/2024 13:26:53] \"GET /static/js/swiper-bundle.min.js HTTP/1.1\" 304 -\n",
      "INFO:werkzeug:127.0.0.1 - - [21/Oct/2024 13:26:53] \"\u001b[36mGET /static/js/swiper-bundle.min.js HTTP/1.1\u001b[0m\" 304 -\n",
      "127.0.0.1 - - [21/Oct/2024 13:26:53] \"GET /static/js/swiper.js HTTP/1.1\" 304 -\n",
      "INFO:werkzeug:127.0.0.1 - - [21/Oct/2024 13:26:53] \"\u001b[36mGET /static/js/swiper.js HTTP/1.1\u001b[0m\" 304 -\n",
      "127.0.0.1 - - [21/Oct/2024 13:26:53] \"GET /static/js/countto.js HTTP/1.1\" 304 -\n",
      "INFO:werkzeug:127.0.0.1 - - [21/Oct/2024 13:26:53] \"\u001b[36mGET /static/js/countto.js HTTP/1.1\u001b[0m\" 304 -\n",
      "127.0.0.1 - - [21/Oct/2024 13:26:53] \"GET /static/js/count-down.js HTTP/1.1\" 304 -\n",
      "INFO:werkzeug:127.0.0.1 - - [21/Oct/2024 13:26:53] \"\u001b[36mGET /static/js/count-down.js HTTP/1.1\u001b[0m\" 304 -\n",
      "127.0.0.1 - - [21/Oct/2024 13:26:53] \"GET /static/js/simpleParallax.min.js HTTP/1.1\" 304 -\n",
      "INFO:werkzeug:127.0.0.1 - - [21/Oct/2024 13:26:53] \"\u001b[36mGET /static/js/simpleParallax.min.js HTTP/1.1\u001b[0m\" 304 -\n",
      "127.0.0.1 - - [21/Oct/2024 13:26:53] \"GET /static/js/gsap.js HTTP/1.1\" 304 -\n",
      "INFO:werkzeug:127.0.0.1 - - [21/Oct/2024 13:26:53] \"\u001b[36mGET /static/js/gsap.js HTTP/1.1\u001b[0m\" 304 -\n",
      "127.0.0.1 - - [21/Oct/2024 13:26:53] \"GET /static/js/SplitText.js HTTP/1.1\" 304 -\n",
      "INFO:werkzeug:127.0.0.1 - - [21/Oct/2024 13:26:53] \"\u001b[36mGET /static/js/SplitText.js HTTP/1.1\u001b[0m\" 304 -\n",
      "127.0.0.1 - - [21/Oct/2024 13:26:53] \"GET /static/js/wow.min.js HTTP/1.1\" 304 -\n",
      "INFO:werkzeug:127.0.0.1 - - [21/Oct/2024 13:26:53] \"\u001b[36mGET /static/js/wow.min.js HTTP/1.1\u001b[0m\" 304 -\n",
      "127.0.0.1 - - [21/Oct/2024 13:26:53] \"GET /static/js/ScrollTrigger.js HTTP/1.1\" 304 -\n",
      "INFO:werkzeug:127.0.0.1 - - [21/Oct/2024 13:26:53] \"\u001b[36mGET /static/js/ScrollTrigger.js HTTP/1.1\u001b[0m\" 304 -\n",
      "127.0.0.1 - - [21/Oct/2024 13:26:53] \"GET /static/js/gsap-animation.js HTTP/1.1\" 304 -\n",
      "INFO:werkzeug:127.0.0.1 - - [21/Oct/2024 13:26:53] \"\u001b[36mGET /static/js/gsap-animation.js HTTP/1.1\u001b[0m\" 304 -\n",
      "127.0.0.1 - - [21/Oct/2024 13:26:53] \"GET /static/js/tsparticles.min.js HTTP/1.1\" 304 -\n",
      "INFO:werkzeug:127.0.0.1 - - [21/Oct/2024 13:26:53] \"\u001b[36mGET /static/js/tsparticles.min.js HTTP/1.1\u001b[0m\" 304 -\n",
      "127.0.0.1 - - [21/Oct/2024 13:26:53] \"GET /static/js/tsparticles.js HTTP/1.1\" 304 -\n",
      "INFO:werkzeug:127.0.0.1 - - [21/Oct/2024 13:26:53] \"\u001b[36mGET /static/js/tsparticles.js HTTP/1.1\u001b[0m\" 304 -\n",
      "127.0.0.1 - - [21/Oct/2024 13:26:53] \"GET /static/js/main.js HTTP/1.1\" 304 -\n",
      "INFO:werkzeug:127.0.0.1 - - [21/Oct/2024 13:26:53] \"\u001b[36mGET /static/js/main.js HTTP/1.1\u001b[0m\" 304 -\n",
      "127.0.0.1 - - [21/Oct/2024 13:26:53] \"GET /static/icon/fonts/icomoon0ec5.ttf?mig12u HTTP/1.1\" 304 -\n",
      "INFO:werkzeug:127.0.0.1 - - [21/Oct/2024 13:26:53] \"\u001b[36mGET /static/icon/fonts/icomoon0ec5.ttf?mig12u HTTP/1.1\u001b[0m\" 304 -\n",
      "127.0.0.1 - - [21/Oct/2024 13:26:53] \"GET /static/images/logo/logo@2x.png HTTP/1.1\" 404 -\n",
      "INFO:werkzeug:127.0.0.1 - - [21/Oct/2024 13:26:53] \"\u001b[33mGET /static/images/logo/logo@2x.png HTTP/1.1\u001b[0m\" 404 -\n"
     ]
    },
    {
     "data": {
      "image/png": "[encoded data removed]",
      "text/plain": [
       "<Figure size 1200x600 with 1 Axes>"
      ]
     },
     "metadata": {},
     "output_type": "display_data"
    }
   ],
   "source": [
    "if __name__ == '__main__':\n",
    "    app.run(debug=True,port=4000,use_reloader=False)"
   ]
  },
  {
   "cell_type": "code",
   "execution_count": 1,
   "metadata": {},
   "outputs": [
    {
     "name": "stderr",
     "output_type": "stream",
     "text": [
      "c:\\Users\\moham\\AppData\\Local\\Programs\\Python\\Python312\\Lib\\site-packages\\keras\\src\\layers\\core\\dense.py:87: UserWarning: Do not pass an `input_shape`/`input_dim` argument to a layer. When using Sequential models, prefer using an `Input(shape)` object as the first layer in the model instead.\n",
      "  super().__init__(activity_regularizer=activity_regularizer, **kwargs)\n"
     ]
    },
    {
     "name": "stdout",
     "output_type": "stream",
     "text": [
      "Model summary saved as 'model_summary.png'.\n"
     ]
    },
    {
     "data": {
      "image/png": "[encoded data removed]",
      "text/plain": [
       "<Figure size 640x480 with 1 Axes>"
      ]
     },
     "metadata": {},
     "output_type": "display_data"
    }
   ],
   "source": [
    "from keras.models import Sequential\n",
    "from keras.layers import Dense\n",
    "from keras.utils import plot_model\n",
    "import matplotlib.pyplot as plt\n",
    "import matplotlib.image as mpimg\n",
    "\n",
    "# Create a simple model\n",
    "model = Sequential()\n",
    "model.add(Dense(64, activation='relu', input_shape=(32,)))\n",
    "model.add(Dense(1, activation='sigmoid'))\n",
    "\n",
    "# Save the model summary as an image\n",
    "image_file = 'model_summary.png'\n",
    "plot_model(model, to_file=image_file, show_shapes=True)\n",
    "\n",
    "print(f\"Model summary saved as '{image_file}'.\")\n",
    "\n",
    "# Display the image\n",
    "img = mpimg.imread(image_file)\n",
    "plt.imshow(img)\n",
    "plt.axis('off')  # Hide the axes\n",
    "plt.show()\n"
   ]
  },
  {
   "cell_type": "code",
   "execution_count": 4,
   "metadata": {},
   "outputs": [
    {
     "name": "stdout",
     "output_type": "stream",
     "text": [
      "You must install graphviz (see instructions at https://graphviz.gitlab.io/download/) for `plot_model` to work.\n",
      "Model summary saved as 'model_summary.png'.\n",
      "'model_summary.png' was not created.\n"
     ]
    }
   ],
   "source": [
    "import os\n",
    "\n",
    "# Save the model summary as an image\n",
    "image_file = 'model_summary.png'\n",
    "plot_model(model, to_file=image_file, show_shapes=True)\n",
    "\n",
    "print(f\"Model summary saved as '{image_file}'.\")\n",
    "\n",
    "# Check if the image file exists\n",
    "if os.path.exists(image_file):\n",
    "    print(f\"'{image_file}' exists.\")\n",
    "else:\n",
    "    print(f\"'{image_file}' was not created.\")\n"
   ]
  },
  {
   "cell_type": "code",
   "execution_count": null,
   "metadata": {},
   "outputs": [],
   "source": []
  }
 ],
 "metadata": {
  "kernelspec": {
   "display_name": "Python 3",
   "language": "python",
   "name": "python3"
  },
  "language_info": {
   "codemirror_mode": {
    "name": "ipython",
    "version": 3
   },
   "file_extension": ".py",
   "mimetype": "text/x-python",
   "name": "python",
   "nbconvert_exporter": "python",
   "pygments_lexer": "ipython3",
   "version": "3.12.4"
  }
 },
 "nbformat": 4,
 "nbformat_minor": 2
}
