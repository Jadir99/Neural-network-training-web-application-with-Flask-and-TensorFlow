{
 "cells": [
  {
   "cell_type": "code",
   "execution_count": 71,
   "metadata": {},
   "outputs": [],
   "source": [
    "from flask import Flask ,render_template,request\n",
    "import os\n",
    "from werkzeug.utils import secure_filename\n",
    "\n",
    "\n",
    "app=Flask(__name__)\n",
    "@app.route('/')\n",
    "def index():\n",
    "    return render_template('index.html')\n",
    "\n",
    "\n",
    "@app.route('/train_model')\n",
    "def train_model():\n",
    "    return render_template('train_model.html')"
   ]
  },
  {
   "cell_type": "code",
   "execution_count": 72,
   "metadata": {},
   "outputs": [],
   "source": [
    "import tensorflow as tf\n",
    "from tensorflow.keras import layers, models\n",
    "from sklearn.model_selection import train_test_split\n",
    "import pandas as pd\n",
    "import matplotlib.pyplot as plt\n",
    "from sklearn.metrics import r2_score\n",
    "\n",
    "# Prototype for training function with Pandas DataFrame\n",
    "def train_tensor(nbr_layers, nbr_neurals, activation, loss, optimizer, epoches, data, target_column, alpha=0.001):\n",
    "    \"\"\"\n",
    "    nbr_layers: Number of layers (int)\n",
    "    nbr_neurons: Number of neurons per layer (list of ints) \n",
    "    activation: Activation function per layer (list of strings, e.g., 'relu', 'sigmoid')\n",
    "    alpha: Learning rate (float)\n",
    "    loss: Loss function (string, e.g., 'mean_squared_error')\n",
    "    optimizer: Optimizer function (string, e.g., 'adam')\n",
    "    epochs: Number of epochs (int)\n",
    "    data: Pandas DataFrame (data) containing features and target column\n",
    "    target_column: Name of the target column for regression (string)\n",
    "    \"\"\"\n",
    "\n",
    "    # Split the DataFrame into features (X) and target (y)\n",
    "    X = data.drop(columns=[target_column])  # All columns except the target column\n",
    "    y = data[target_column]  # Target column for prediction\n",
    "    \n",
    "    # Train-test split\n",
    "    X_train, X_test, y_train, y_test = train_test_split(X, y, test_size=0.2)\n",
    "    \n",
    "    # Build the model\n",
    "    model = models.Sequential()\n",
    "    \n",
    "    # Add input layer with the number of features (columns) in X\n",
    "    model.add(layers.InputLayer(input_shape=(X_train.shape[1],)))\n",
    "    \n",
    "    # Add hidden layers\n",
    "    for i in range(nbr_layers):\n",
    "        model.add(layers.Dense(units=nbr_neurals[i], activation=activation[i]))\n",
    "    \n",
    "    # Add final layer for regression (output a single value)\n",
    "    model.add(layers.Dense(1))\n",
    "    \n",
    "    # Compile the model with the given optimizer and learning rate\n",
    "    optimizer_func = getattr(tf.keras.optimizers, optimizer)(learning_rate=alpha)\n",
    "    model.compile(loss=loss, optimizer=optimizer_func)\n",
    "    \n",
    "    # Train the model\n",
    "    history = model.fit(X_train, y_train, epochs=epoches, batch_size=32, validation_split=0.2)\n",
    "    \n",
    "    # Plot loss over epochs\n",
    "    plt.figure(figsize=(12, 6))\n",
    "    \n",
    "    # Plotting loss\n",
    "    plt.subplot(1, 2, 1)\n",
    "    plt.plot(history.history['loss'], label='Loss')\n",
    "    plt.plot(history.history['val_loss'], label='Validation Loss')\n",
    "    plt.title('Model Loss over Epochs')\n",
    "    plt.xlabel('Epochs')\n",
    "    plt.ylabel('Loss')\n",
    "    plt.legend()\n",
    "    plt.grid()\n",
    "\n",
    "    # Plotting accuracy (if applicable, for regression usually not used)\n",
    "    if 'accuracy' in history.history:\n",
    "        plt.subplot(1, 2, 2)\n",
    "        plt.plot(history.history['accuracy'], label='Accuracy')\n",
    "        plt.plot(history.history['val_accuracy'], label='Validation Accuracy')\n",
    "        plt.title('Model Accuracy over Epochs')\n",
    "        plt.xlabel('Epochs')\n",
    "        plt.ylabel('Accuracy')\n",
    "        plt.legend()\n",
    "        plt.grid()\n",
    "    \n",
    "    plt.savefig('static/images/model_performance_plot.png')  # Save the performance plot to a file\n",
    "\n",
    "    # Evaluate the model on the test set\n",
    "    test_loss = model.evaluate(X_test, y_test)\n",
    "\n",
    "    # Predict and calculate accuracy manually (since it's a regression problem)\n",
    "    y_pred = model.predict(X_test)\n",
    "    \n",
    "    # Calculate R^2 score (as a measure of accuracy for regression)\n",
    "    r2 = r2_score(y_test, y_pred)\n",
    "    \n",
    "    print(f'Test Loss: {test_loss}')\n",
    "    print(f'R^2 Score: {r2}')\n",
    "    \n",
    "    return model, history, test_loss, r2\n"
   ]
  },
  {
   "cell_type": "code",
   "execution_count": 73,
   "metadata": {},
   "outputs": [],
   "source": [
    "\n",
    "\n",
    "# Specify the directory where uploaded files will be saved\n",
    "UPLOAD_FOLDER = 'static/uploads'\n",
    "app.config['UPLOAD_FOLDER'] = UPLOAD_FOLDER\n",
    "\n",
    "# Ensure the folder exists\n",
    "if not os.path.exists(UPLOAD_FOLDER):\n",
    "    os.makedirs(UPLOAD_FOLDER)\n",
    "\n",
    "# Route to train data and save the file\n",
    "@app.route('/train_data', methods=[\"POST\", \"GET\"])\n",
    "def train_data():\n",
    "    if request.method == \"POST\":\n",
    "        # Prepare to collect neurons and activations\n",
    "        neurons = []\n",
    "        activations = []\n",
    "        number_layers = int(request.form['number_layers'])\n",
    "\n",
    "        for i in range(number_layers):\n",
    "    # Get number of neurons for each layer (formatted with f-string)\n",
    "            neurons.append(int(request.form.get(f'number_neurons_{i}')))\n",
    "            \n",
    "            # Get activation function for each layer (formatted with f-string)\n",
    "            activations.append(request.form.get(f'activation_function_{i}'))\n",
    "\n",
    "        print(neurons)\n",
    "        # Get the value of 'epoches' from the form\n",
    "        epoches = int(request.form['epoches'])\n",
    "        # learning_rate = request.form['learning_rate']\n",
    "        loss_function = request.form['loss_function']\n",
    "        optimizer_function = request.form['optimizer_function']\n",
    "        Target = request.form['Target']\n",
    "\n",
    "        # Get the uploaded file\n",
    "        file = request.files['file']\n",
    "        file_name=file.filename\n",
    "        # Ensure the file exists and is not empty\n",
    "        # Secure the file name to avoid security issues\n",
    "        filename = secure_filename(file.filename)\n",
    "        # Save the file to the specified folder\n",
    "        file_path = os.path.join(app.config['UPLOAD_FOLDER'], filename)\n",
    "        file.save(file_path)\n",
    "        data = pd.read_csv(file_path)\n",
    "        # call the function of training \n",
    "        model, history,test_loss,r2 = train_tensor(number_layers, neurons, activations,loss_function, optimizer_function, epoches, data,Target)\n",
    "    \n",
    "            # Render a template and pass the number of layers and saved file info\n",
    "    return render_template('test.html',summary=model.summary(),score=r2,test_loss=test_loss, activations=activations, neurons=neurons,epoches=epoches,loss_function=loss_function,optimizer_function=optimizer_function,Target=Target)\n"
   ]
  },
  {
   "cell_type": "code",
   "execution_count": 70,
   "metadata": {},
   "outputs": [
    {
     "name": "stdout",
     "output_type": "stream",
     "text": [
      " * Serving Flask app '__main__'\n",
      " * Debug mode: on\n"
     ]
    },
    {
     "name": "stderr",
     "output_type": "stream",
     "text": [
      "WARNING: This is a development server. Do not use it in a production deployment. Use a production WSGI server instead.\n",
      " * Running on http://127.0.0.1:4000\n",
      "Press CTRL+C to quit\n",
      "127.0.0.1 - - [16/Oct/2024 23:15:40] \"GET / HTTP/1.1\" 200 -\n",
      "127.0.0.1 - - [16/Oct/2024 23:15:40] \"GET /static/css/style.css HTTP/1.1\" 304 -\n",
      "127.0.0.1 - - [16/Oct/2024 23:15:40] \"GET /static/css/responsive.css HTTP/1.1\" 304 -\n",
      "127.0.0.1 - - [16/Oct/2024 23:15:40] \"GET /static/images/item-background/item8.png HTTP/1.1\" 304 -\n",
      "127.0.0.1 - - [16/Oct/2024 23:15:40] \"GET /static/js/jquery.min.js HTTP/1.1\" 304 -\n",
      "127.0.0.1 - - [16/Oct/2024 23:15:40] \"GET /static/images/item-background/item7.png HTTP/1.1\" 304 -\n",
      "127.0.0.1 - - [16/Oct/2024 23:15:40] \"GET /static/images/item-background/item1.png HTTP/1.1\" 304 -\n",
      "127.0.0.1 - - [16/Oct/2024 23:15:40] \"GET /static/js/popper.min.js HTTP/1.1\" 304 -\n",
      "127.0.0.1 - - [16/Oct/2024 23:15:40] \"GET /static/icon/icon.css HTTP/1.1\" 304 -\n",
      "127.0.0.1 - - [16/Oct/2024 23:15:40] \"GET /static/css/animation.css HTTP/1.1\" 304 -\n",
      "127.0.0.1 - - [16/Oct/2024 23:15:40] \"GET /static/css/shortcodes.css HTTP/1.1\" 304 -\n",
      "127.0.0.1 - - [16/Oct/2024 23:15:40] \"GET /static/css/animate.min.css HTTP/1.1\" 304 -\n",
      "127.0.0.1 - - [16/Oct/2024 23:15:40] \"GET /static/css/swiper-bundle.min.css HTTP/1.1\" 304 -\n",
      "127.0.0.1 - - [16/Oct/2024 23:15:40] \"GET /static/font/font.css HTTP/1.1\" 304 -\n",
      "127.0.0.1 - - [16/Oct/2024 23:15:40] \"GET /static/css/bootstrap.css HTTP/1.1\" 304 -\n",
      "127.0.0.1 - - [16/Oct/2024 23:15:40] \"GET /static/js/bootstrap.min.js HTTP/1.1\" 304 -\n",
      "127.0.0.1 - - [16/Oct/2024 23:15:41] \"GET /static/js/swiper-bundle.min.js HTTP/1.1\" 304 -\n",
      "127.0.0.1 - - [16/Oct/2024 23:15:41] \"GET /static/js/swiper.js HTTP/1.1\" 304 -\n",
      "127.0.0.1 - - [16/Oct/2024 23:15:41] \"GET /static/js/countto.js HTTP/1.1\" 304 -\n",
      "127.0.0.1 - - [16/Oct/2024 23:15:41] \"GET /static/js/count-down.js HTTP/1.1\" 304 -\n",
      "127.0.0.1 - - [16/Oct/2024 23:15:41] \"GET /static/js/simpleParallax.min.js HTTP/1.1\" 304 -\n",
      "127.0.0.1 - - [16/Oct/2024 23:15:41] \"GET /static/js/gsap.js HTTP/1.1\" 304 -\n",
      "127.0.0.1 - - [16/Oct/2024 23:15:41] \"GET /static/js/SplitText.js HTTP/1.1\" 304 -\n",
      "127.0.0.1 - - [16/Oct/2024 23:15:41] \"GET /static/js/wow.min.js HTTP/1.1\" 304 -\n",
      "127.0.0.1 - - [16/Oct/2024 23:15:41] \"GET /static/js/ScrollTrigger.js HTTP/1.1\" 304 -\n",
      "127.0.0.1 - - [16/Oct/2024 23:15:41] \"GET /static/js/gsap-animation.js HTTP/1.1\" 304 -\n",
      "127.0.0.1 - - [16/Oct/2024 23:15:41] \"GET /static/js/tsparticles.min.js HTTP/1.1\" 304 -\n",
      "127.0.0.1 - - [16/Oct/2024 23:15:41] \"GET /static/images/item-background/item16.png HTTP/1.1\" 304 -\n",
      "127.0.0.1 - - [16/Oct/2024 23:15:41] \"GET /static/images/item-background/item17.png HTTP/1.1\" 304 -\n",
      "127.0.0.1 - - [16/Oct/2024 23:15:41] \"GET /static/images/item-background/slider-animation.png HTTP/1.1\" 304 -\n",
      "127.0.0.1 - - [16/Oct/2024 23:15:41] \"GET /static/icon/fonts/icomoon0ec5.ttf?mig12u HTTP/1.1\" 304 -\n",
      "127.0.0.1 - - [16/Oct/2024 23:15:41] \"GET /static/images/item-background/item15.png HTTP/1.1\" 304 -\n",
      "127.0.0.1 - - [16/Oct/2024 23:15:41] \"GET /static/images/item-background/item5.png HTTP/1.1\" 304 -\n",
      "127.0.0.1 - - [16/Oct/2024 23:15:41] \"GET /static/images/item-background/bg-home7.png HTTP/1.1\" 304 -\n",
      "127.0.0.1 - - [16/Oct/2024 23:15:41] \"GET /static/images/item-background/item2.png HTTP/1.1\" 304 -\n",
      "127.0.0.1 - - [16/Oct/2024 23:15:41] \"GET /static/images/item-background/item9.png HTTP/1.1\" 304 -\n",
      "127.0.0.1 - - [16/Oct/2024 23:15:41] \"GET /static/js/tsparticles.js HTTP/1.1\" 304 -\n",
      "127.0.0.1 - - [16/Oct/2024 23:15:41] \"GET /static/js/main.js HTTP/1.1\" 304 -\n",
      "127.0.0.1 - - [16/Oct/2024 23:15:41] \"GET /static/images/backgroup-section/popup.png HTTP/1.1\" 304 -\n",
      "127.0.0.1 - - [16/Oct/2024 23:15:41] \"GET /static/images/item-background/item6-img.png HTTP/1.1\" 304 -\n",
      "127.0.0.1 - - [16/Oct/2024 23:15:41] \"GET /static/images/logo/logo.png HTTP/1.1\" 304 -\n",
      "127.0.0.1 - - [16/Oct/2024 23:15:41] \"GET /static/images/logo/logo@2x.png HTTP/1.1\" 404 -\n",
      "127.0.0.1 - - [16/Oct/2024 23:15:42] \"GET /train_model HTTP/1.1\" 200 -\n",
      "127.0.0.1 - - [16/Oct/2024 23:15:42] \"GET /static/css/style.css HTTP/1.1\" 304 -\n",
      "127.0.0.1 - - [16/Oct/2024 23:15:42] \"GET /static/css/responsive.css HTTP/1.1\" 304 -\n",
      "127.0.0.1 - - [16/Oct/2024 23:15:42] \"GET /static/js/jquery.min.js HTTP/1.1\" 304 -\n",
      "127.0.0.1 - - [16/Oct/2024 23:15:42] \"GET /static/images/blog/sidebar-06.jpg HTTP/1.1\" 304 -\n",
      "127.0.0.1 - - [16/Oct/2024 23:15:42] \"GET /static/images/avatar/avatar-small-09.png HTTP/1.1\" 304 -\n",
      "127.0.0.1 - - [16/Oct/2024 23:15:42] \"GET /static/js/bootstrap.min.js HTTP/1.1\" 304 -\n",
      "127.0.0.1 - - [16/Oct/2024 23:15:42] \"GET /static/js/popper.min.js HTTP/1.1\" 304 -\n",
      "127.0.0.1 - - [16/Oct/2024 23:15:42] \"GET /static/icon/icon.css HTTP/1.1\" 304 -\n",
      "127.0.0.1 - - [16/Oct/2024 23:15:42] \"GET /static/css/shortcodes.css HTTP/1.1\" 304 -\n",
      "127.0.0.1 - - [16/Oct/2024 23:15:42] \"GET /static/css/animation.css HTTP/1.1\" 304 -\n",
      "127.0.0.1 - - [16/Oct/2024 23:15:42] \"GET /static/css/animate.min.css HTTP/1.1\" 304 -\n",
      "127.0.0.1 - - [16/Oct/2024 23:15:43] \"GET /static/font/font.css HTTP/1.1\" 304 -\n",
      "127.0.0.1 - - [16/Oct/2024 23:15:43] \"GET /static/css/swiper-bundle.min.css HTTP/1.1\" 304 -\n",
      "127.0.0.1 - - [16/Oct/2024 23:15:43] \"GET /static/css/bootstrap.css HTTP/1.1\" 304 -\n",
      "127.0.0.1 - - [16/Oct/2024 23:15:43] \"GET /static/js/swiper.js HTTP/1.1\" 304 -\n",
      "127.0.0.1 - - [16/Oct/2024 23:15:43] \"GET /static/js/swiper-bundle.min.js HTTP/1.1\" 304 -\n",
      "127.0.0.1 - - [16/Oct/2024 23:15:43] \"GET /static/js/countto.js HTTP/1.1\" 304 -\n",
      "127.0.0.1 - - [16/Oct/2024 23:15:43] \"GET /static/js/count-down.js HTTP/1.1\" 304 -\n",
      "127.0.0.1 - - [16/Oct/2024 23:15:43] \"GET /static/js/simpleParallax.min.js HTTP/1.1\" 304 -\n",
      "127.0.0.1 - - [16/Oct/2024 23:15:43] \"GET /static/js/gsap.js HTTP/1.1\" 304 -\n",
      "127.0.0.1 - - [16/Oct/2024 23:15:43] \"GET /static/js/SplitText.js HTTP/1.1\" 304 -\n",
      "127.0.0.1 - - [16/Oct/2024 23:15:43] \"GET /static/js/wow.min.js HTTP/1.1\" 304 -\n",
      "127.0.0.1 - - [16/Oct/2024 23:15:43] \"GET /static/js/ScrollTrigger.js HTTP/1.1\" 304 -\n",
      "127.0.0.1 - - [16/Oct/2024 23:15:43] \"GET /static/js/gsap-animation.js HTTP/1.1\" 304 -\n",
      "127.0.0.1 - - [16/Oct/2024 23:15:43] \"GET /static/images/logo/logo.png HTTP/1.1\" 304 -\n",
      "127.0.0.1 - - [16/Oct/2024 23:15:43] \"GET /static/images/box-icon/upload.png HTTP/1.1\" 304 -\n",
      "127.0.0.1 - - [16/Oct/2024 23:15:43] \"GET /static/icon/fonts/icomoon0ec5.ttf?mig12u HTTP/1.1\" 304 -\n",
      "127.0.0.1 - - [16/Oct/2024 23:15:43] \"GET /static/js/tsparticles.min.js HTTP/1.1\" 304 -\n",
      "127.0.0.1 - - [16/Oct/2024 23:15:43] \"GET /static/js/tsparticles.js HTTP/1.1\" 304 -\n",
      "127.0.0.1 - - [16/Oct/2024 23:15:43] \"GET /static/js/main.js HTTP/1.1\" 304 -\n"
     ]
    },
    {
     "name": "stdout",
     "output_type": "stream",
     "text": [
      "[10, 5]\n"
     ]
    },
    {
     "name": "stderr",
     "output_type": "stream",
     "text": [
      "c:\\Users\\moham\\AppData\\Local\\Programs\\Python\\Python312\\Lib\\site-packages\\keras\\src\\layers\\core\\input_layer.py:26: UserWarning: Argument `input_shape` is deprecated. Use `shape` instead.\n",
      "  warnings.warn(\n"
     ]
    },
    {
     "name": "stdout",
     "output_type": "stream",
     "text": [
      "Epoch 1/5\n"
     ]
    },
    {
     "name": "stderr",
     "output_type": "stream",
     "text": [
      "127.0.0.1 - - [16/Oct/2024 23:16:24] \"POST /train_data HTTP/1.1\" 500 -\n",
      "Traceback (most recent call last):\n",
      "  File \"c:\\Users\\moham\\AppData\\Local\\Programs\\Python\\Python312\\Lib\\site-packages\\flask\\app.py\", line 2213, in __call__\n",
      "    return self.wsgi_app(environ, start_response)\n",
      "           ^^^^^^^^^^^^^^^^^^^^^^^^^^^^^^^^^^^^^^\n",
      "  File \"c:\\Users\\moham\\AppData\\Local\\Programs\\Python\\Python312\\Lib\\site-packages\\flask\\app.py\", line 2193, in wsgi_app\n",
      "    response = self.handle_exception(e)\n",
      "               ^^^^^^^^^^^^^^^^^^^^^^^^\n",
      "  File \"c:\\Users\\moham\\AppData\\Local\\Programs\\Python\\Python312\\Lib\\site-packages\\flask\\app.py\", line 2190, in wsgi_app\n",
      "    response = self.full_dispatch_request()\n",
      "               ^^^^^^^^^^^^^^^^^^^^^^^^^^^^\n",
      "  File \"c:\\Users\\moham\\AppData\\Local\\Programs\\Python\\Python312\\Lib\\site-packages\\flask\\app.py\", line 1486, in full_dispatch_request\n",
      "    rv = self.handle_user_exception(e)\n",
      "         ^^^^^^^^^^^^^^^^^^^^^^^^^^^^^\n",
      "  File \"c:\\Users\\moham\\AppData\\Local\\Programs\\Python\\Python312\\Lib\\site-packages\\flask\\app.py\", line 1484, in full_dispatch_request\n",
      "    rv = self.dispatch_request()\n",
      "         ^^^^^^^^^^^^^^^^^^^^^^^\n",
      "  File \"c:\\Users\\moham\\AppData\\Local\\Programs\\Python\\Python312\\Lib\\site-packages\\flask\\app.py\", line 1469, in dispatch_request\n",
      "    return self.ensure_sync(self.view_functions[rule.endpoint])(**view_args)\n",
      "           ^^^^^^^^^^^^^^^^^^^^^^^^^^^^^^^^^^^^^^^^^^^^^^^^^^^^^^^^^^^^^^^^^\n",
      "  File \"C:\\Users\\moham\\AppData\\Local\\Temp\\ipykernel_7380\\3117321246.py\", line 44, in train_data\n",
      "    model, history,test_loss,r2 = train_tensor(number_layers, neurons, activations,loss_function, optimizer_function, epoches, data,Target)\n",
      "                                  ^^^^^^^^^^^^^^^^^^^^^^^^^^^^^^^^^^^^^^^^^^^^^^^^^^^^^^^^^^^^^^^^^^^^^^^^^^^^^^^^^^^^^^^^^^^^^^^^^^^^^^^^^\n",
      "  File \"C:\\Users\\moham\\AppData\\Local\\Temp\\ipykernel_7380\\1605514238.py\", line 47, in train_tensor\n",
      "    history = model.fit(X_train, y_train, epochs=epoches, batch_size=32, validation_split=0.2)\n",
      "              ^^^^^^^^^^^^^^^^^^^^^^^^^^^^^^^^^^^^^^^^^^^^^^^^^^^^^^^^^^^^^^^^^^^^^^^^^^^^^^^^\n",
      "  File \"c:\\Users\\moham\\AppData\\Local\\Programs\\Python\\Python312\\Lib\\site-packages\\keras\\src\\utils\\traceback_utils.py\", line 122, in error_handler\n",
      "    raise e.with_traceback(filtered_tb) from None\n",
      "  File \"c:\\Users\\moham\\AppData\\Local\\Programs\\Python\\Python312\\Lib\\site-packages\\keras\\src\\losses\\__init__.py\", line 201, in get\n",
      "    raise ValueError(f\"Could not interpret loss identifier: {identifier}\")\n",
      "ValueError: Could not interpret loss identifier: Select Loss Function\n",
      "127.0.0.1 - - [16/Oct/2024 23:16:24] \"GET /train_data?__debugger__=yes&cmd=resource&f=style.css HTTP/1.1\" 304 -\n",
      "127.0.0.1 - - [16/Oct/2024 23:16:24] \"GET /train_data?__debugger__=yes&cmd=resource&f=debugger.js HTTP/1.1\" 304 -\n",
      "127.0.0.1 - - [16/Oct/2024 23:16:24] \"GET /train_data?__debugger__=yes&cmd=resource&f=console.png HTTP/1.1\" 304 -\n",
      "127.0.0.1 - - [16/Oct/2024 23:16:25] \"GET /train_data?__debugger__=yes&cmd=resource&f=console.png HTTP/1.1\" 304 -\n"
     ]
    },
    {
     "name": "stdout",
     "output_type": "stream",
     "text": [
      "[9, 5]\n",
      "Epoch 1/5\n"
     ]
    },
    {
     "name": "stderr",
     "output_type": "stream",
     "text": [
      "c:\\Users\\moham\\AppData\\Local\\Programs\\Python\\Python312\\Lib\\site-packages\\keras\\src\\layers\\core\\input_layer.py:26: UserWarning: Argument `input_shape` is deprecated. Use `shape` instead.\n",
      "  warnings.warn(\n"
     ]
    },
    {
     "name": "stdout",
     "output_type": "stream",
     "text": [
      "\u001b[1m5697/5697\u001b[0m \u001b[32m━━━━━━━━━━━━━━━━━━━━\u001b[0m\u001b[37m\u001b[0m \u001b[1m7s\u001b[0m 1ms/step - loss: 0.0705 - val_loss: 0.0269\n",
      "Epoch 2/5\n",
      "\u001b[1m5697/5697\u001b[0m \u001b[32m━━━━━━━━━━━━━━━━━━━━\u001b[0m\u001b[37m\u001b[0m \u001b[1m6s\u001b[0m 1ms/step - loss: 0.0290 - val_loss: 0.0269\n",
      "Epoch 3/5\n",
      "\u001b[1m5697/5697\u001b[0m \u001b[32m━━━━━━━━━━━━━━━━━━━━\u001b[0m\u001b[37m\u001b[0m \u001b[1m6s\u001b[0m 1ms/step - loss: 0.0284 - val_loss: 0.0269\n",
      "Epoch 4/5\n",
      "\u001b[1m5697/5697\u001b[0m \u001b[32m━━━━━━━━━━━━━━━━━━━━\u001b[0m\u001b[37m\u001b[0m \u001b[1m6s\u001b[0m 1ms/step - loss: 0.0291 - val_loss: 0.0269\n",
      "Epoch 5/5\n",
      "\u001b[1m5697/5697\u001b[0m \u001b[32m━━━━━━━━━━━━━━━━━━━━\u001b[0m\u001b[37m\u001b[0m \u001b[1m6s\u001b[0m 1ms/step - loss: 0.0289 - val_loss: 0.0269\n",
      "\u001b[1m1781/1781\u001b[0m \u001b[32m━━━━━━━━━━━━━━━━━━━━\u001b[0m\u001b[37m\u001b[0m \u001b[1m1s\u001b[0m 729us/step - loss: 0.0269\n",
      "\u001b[1m1781/1781\u001b[0m \u001b[32m━━━━━━━━━━━━━━━━━━━━\u001b[0m\u001b[37m\u001b[0m \u001b[1m1s\u001b[0m 797us/step\n",
      "Test Loss: 0.024051789194345474\n",
      "R^2 Score: -2.8099069595336914\n"
     ]
    },
    {
     "data": {
      "text/html": [
       "<pre style=\"white-space:pre;overflow-x:auto;line-height:normal;font-family:Menlo,'DejaVu Sans Mono',consolas,'Courier New',monospace\"><span style=\"font-weight: bold\">Model: \"sequential\"</span>\n",
       "</pre>\n"
      ],
      "text/plain": [
       "\u001b[1mModel: \"sequential\"\u001b[0m\n"
      ]
     },
     "metadata": {},
     "output_type": "display_data"
    },
    {
     "data": {
      "text/html": [
       "<pre style=\"white-space:pre;overflow-x:auto;line-height:normal;font-family:Menlo,'DejaVu Sans Mono',consolas,'Courier New',monospace\">┏━━━━━━━━━━━━━━━━━━━━━━━━━━━━━━━━━┳━━━━━━━━━━━━━━━━━━━━━━━━┳━━━━━━━━━━━━━━━┓\n",
       "┃<span style=\"font-weight: bold\"> Layer (type)                    </span>┃<span style=\"font-weight: bold\"> Output Shape           </span>┃<span style=\"font-weight: bold\">       Param # </span>┃\n",
       "┡━━━━━━━━━━━━━━━━━━━━━━━━━━━━━━━━━╇━━━━━━━━━━━━━━━━━━━━━━━━╇━━━━━━━━━━━━━━━┩\n",
       "│ dense (<span style=\"color: #0087ff; text-decoration-color: #0087ff\">Dense</span>)                   │ (<span style=\"color: #00d7ff; text-decoration-color: #00d7ff\">None</span>, <span style=\"color: #00af00; text-decoration-color: #00af00\">9</span>)              │           <span style=\"color: #00af00; text-decoration-color: #00af00\">279</span> │\n",
       "├─────────────────────────────────┼────────────────────────┼───────────────┤\n",
       "│ dense_1 (<span style=\"color: #0087ff; text-decoration-color: #0087ff\">Dense</span>)                 │ (<span style=\"color: #00d7ff; text-decoration-color: #00d7ff\">None</span>, <span style=\"color: #00af00; text-decoration-color: #00af00\">5</span>)              │            <span style=\"color: #00af00; text-decoration-color: #00af00\">50</span> │\n",
       "├─────────────────────────────────┼────────────────────────┼───────────────┤\n",
       "│ dense_2 (<span style=\"color: #0087ff; text-decoration-color: #0087ff\">Dense</span>)                 │ (<span style=\"color: #00d7ff; text-decoration-color: #00d7ff\">None</span>, <span style=\"color: #00af00; text-decoration-color: #00af00\">1</span>)              │             <span style=\"color: #00af00; text-decoration-color: #00af00\">6</span> │\n",
       "└─────────────────────────────────┴────────────────────────┴───────────────┘\n",
       "</pre>\n"
      ],
      "text/plain": [
       "┏━━━━━━━━━━━━━━━━━━━━━━━━━━━━━━━━━┳━━━━━━━━━━━━━━━━━━━━━━━━┳━━━━━━━━━━━━━━━┓\n",
       "┃\u001b[1m \u001b[0m\u001b[1mLayer (type)                   \u001b[0m\u001b[1m \u001b[0m┃\u001b[1m \u001b[0m\u001b[1mOutput Shape          \u001b[0m\u001b[1m \u001b[0m┃\u001b[1m \u001b[0m\u001b[1m      Param #\u001b[0m\u001b[1m \u001b[0m┃\n",
       "┡━━━━━━━━━━━━━━━━━━━━━━━━━━━━━━━━━╇━━━━━━━━━━━━━━━━━━━━━━━━╇━━━━━━━━━━━━━━━┩\n",
       "│ dense (\u001b[38;5;33mDense\u001b[0m)                   │ (\u001b[38;5;45mNone\u001b[0m, \u001b[38;5;34m9\u001b[0m)              │           \u001b[38;5;34m279\u001b[0m │\n",
       "├─────────────────────────────────┼────────────────────────┼───────────────┤\n",
       "│ dense_1 (\u001b[38;5;33mDense\u001b[0m)                 │ (\u001b[38;5;45mNone\u001b[0m, \u001b[38;5;34m5\u001b[0m)              │            \u001b[38;5;34m50\u001b[0m │\n",
       "├─────────────────────────────────┼────────────────────────┼───────────────┤\n",
       "│ dense_2 (\u001b[38;5;33mDense\u001b[0m)                 │ (\u001b[38;5;45mNone\u001b[0m, \u001b[38;5;34m1\u001b[0m)              │             \u001b[38;5;34m6\u001b[0m │\n",
       "└─────────────────────────────────┴────────────────────────┴───────────────┘\n"
      ]
     },
     "metadata": {},
     "output_type": "display_data"
    },
    {
     "data": {
      "text/html": [
       "<pre style=\"white-space:pre;overflow-x:auto;line-height:normal;font-family:Menlo,'DejaVu Sans Mono',consolas,'Courier New',monospace\"><span style=\"font-weight: bold\"> Total params: </span><span style=\"color: #00af00; text-decoration-color: #00af00\">1,007</span> (3.94 KB)\n",
       "</pre>\n"
      ],
      "text/plain": [
       "\u001b[1m Total params: \u001b[0m\u001b[38;5;34m1,007\u001b[0m (3.94 KB)\n"
      ]
     },
     "metadata": {},
     "output_type": "display_data"
    },
    {
     "data": {
      "text/html": [
       "<pre style=\"white-space:pre;overflow-x:auto;line-height:normal;font-family:Menlo,'DejaVu Sans Mono',consolas,'Courier New',monospace\"><span style=\"font-weight: bold\"> Trainable params: </span><span style=\"color: #00af00; text-decoration-color: #00af00\">335</span> (1.31 KB)\n",
       "</pre>\n"
      ],
      "text/plain": [
       "\u001b[1m Trainable params: \u001b[0m\u001b[38;5;34m335\u001b[0m (1.31 KB)\n"
      ]
     },
     "metadata": {},
     "output_type": "display_data"
    },
    {
     "data": {
      "text/html": [
       "<pre style=\"white-space:pre;overflow-x:auto;line-height:normal;font-family:Menlo,'DejaVu Sans Mono',consolas,'Courier New',monospace\"><span style=\"font-weight: bold\"> Non-trainable params: </span><span style=\"color: #00af00; text-decoration-color: #00af00\">0</span> (0.00 B)\n",
       "</pre>\n"
      ],
      "text/plain": [
       "\u001b[1m Non-trainable params: \u001b[0m\u001b[38;5;34m0\u001b[0m (0.00 B)\n"
      ]
     },
     "metadata": {},
     "output_type": "display_data"
    },
    {
     "data": {
      "text/html": [
       "<pre style=\"white-space:pre;overflow-x:auto;line-height:normal;font-family:Menlo,'DejaVu Sans Mono',consolas,'Courier New',monospace\"><span style=\"font-weight: bold\"> Optimizer params: </span><span style=\"color: #00af00; text-decoration-color: #00af00\">672</span> (2.63 KB)\n",
       "</pre>\n"
      ],
      "text/plain": [
       "\u001b[1m Optimizer params: \u001b[0m\u001b[38;5;34m672\u001b[0m (2.63 KB)\n"
      ]
     },
     "metadata": {},
     "output_type": "display_data"
    },
    {
     "name": "stderr",
     "output_type": "stream",
     "text": [
      "127.0.0.1 - - [16/Oct/2024 23:17:49] \"POST /train_data HTTP/1.1\" 200 -\n",
      "127.0.0.1 - - [16/Oct/2024 23:22:40] \"GET /index.html HTTP/1.1\" 404 -\n"
     ]
    }
   ],
   "source": [
    "if __name__ == '__main__':\n",
    "    app.run(debug=True,port=4000,use_reloader=False)"
   ]
  }
 ],
 "metadata": {
  "kernelspec": {
   "display_name": "Python 3",
   "language": "python",
   "name": "python3"
  },
  "language_info": {
   "codemirror_mode": {
    "name": "ipython",
    "version": 3
   },
   "file_extension": ".py",
   "mimetype": "text/x-python",
   "name": "python",
   "nbconvert_exporter": "python",
   "pygments_lexer": "ipython3",
   "version": "3.12.4"
  }
 },
 "nbformat": 4,
 "nbformat_minor": 2
}
